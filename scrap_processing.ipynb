{
 "cells": [
  {
   "cell_type": "code",
   "execution_count": 1,
   "metadata": {},
   "outputs": [
    {
     "name": "stdout",
     "output_type": "stream",
     "text": [
      "https://www.amazon.in/Redmi-Prime-Storage-Display-Camera/product-reviews/B086984LJ4/ref=cm_cr_arp_d_paging_btm_next_1?ie=UTF8&reviewerType=all_reviews&pageNumber=1\n",
      "Getting page: 1\n",
      "10\n",
      "https://www.amazon.in/Redmi-Prime-Storage-Display-Camera/product-reviews/B086984LJ4/ref=cm_cr_arp_d_paging_btm_next_2?ie=UTF8&reviewerType=all_reviews&pageNumber=2\n",
      "Getting page: 2\n",
      "20\n",
      "https://www.amazon.in/Redmi-Prime-Storage-Display-Camera/product-reviews/B086984LJ4/ref=cm_cr_arp_d_paging_btm_next_3?ie=UTF8&reviewerType=all_reviews&pageNumber=3\n",
      "Getting page: 3\n",
      "30\n",
      "https://www.amazon.in/Redmi-Prime-Storage-Display-Camera/product-reviews/B086984LJ4/ref=cm_cr_arp_d_paging_btm_next_4?ie=UTF8&reviewerType=all_reviews&pageNumber=4\n",
      "Getting page: 4\n",
      "30\n",
      "https://www.amazon.in/Redmi-Prime-Storage-Display-Camera/product-reviews/B086984LJ4/ref=cm_cr_arp_d_paging_btm_next_5?ie=UTF8&reviewerType=all_reviews&pageNumber=5\n",
      "Getting page: 5\n",
      "40\n",
      "https://www.amazon.in/Redmi-Prime-Storage-Display-Camera/product-reviews/B086984LJ4/ref=cm_cr_arp_d_paging_btm_next_6?ie=UTF8&reviewerType=all_reviews&pageNumber=6\n",
      "Getting page: 6\n",
      "50\n",
      "https://www.amazon.in/Redmi-Prime-Storage-Display-Camera/product-reviews/B086984LJ4/ref=cm_cr_arp_d_paging_btm_next_7?ie=UTF8&reviewerType=all_reviews&pageNumber=7\n",
      "Getting page: 7\n",
      "60\n",
      "https://www.amazon.in/Redmi-Prime-Storage-Display-Camera/product-reviews/B086984LJ4/ref=cm_cr_arp_d_paging_btm_next_8?ie=UTF8&reviewerType=all_reviews&pageNumber=8\n",
      "Getting page: 8\n",
      "60\n",
      "https://www.amazon.in/Redmi-Prime-Storage-Display-Camera/product-reviews/B086984LJ4/ref=cm_cr_arp_d_paging_btm_next_9?ie=UTF8&reviewerType=all_reviews&pageNumber=9\n",
      "Getting page: 9\n",
      "70\n",
      "https://www.amazon.in/Redmi-Prime-Storage-Display-Camera/product-reviews/B086984LJ4/ref=cm_cr_arp_d_paging_btm_next_10?ie=UTF8&reviewerType=all_reviews&pageNumber=10\n",
      "Getting page: 10\n",
      "80\n",
      "https://www.amazon.in/Redmi-Prime-Storage-Display-Camera/product-reviews/B086984LJ4/ref=cm_cr_arp_d_paging_btm_next_11?ie=UTF8&reviewerType=all_reviews&pageNumber=11\n",
      "Getting page: 11\n",
      "80\n",
      "https://www.amazon.in/Redmi-Prime-Storage-Display-Camera/product-reviews/B086984LJ4/ref=cm_cr_arp_d_paging_btm_next_12?ie=UTF8&reviewerType=all_reviews&pageNumber=12\n",
      "Getting page: 12\n",
      "90\n",
      "https://www.amazon.in/Redmi-Prime-Storage-Display-Camera/product-reviews/B086984LJ4/ref=cm_cr_arp_d_paging_btm_next_13?ie=UTF8&reviewerType=all_reviews&pageNumber=13\n",
      "Getting page: 13\n",
      "100\n",
      "https://www.amazon.in/Redmi-Prime-Storage-Display-Camera/product-reviews/B086984LJ4/ref=cm_cr_arp_d_paging_btm_next_14?ie=UTF8&reviewerType=all_reviews&pageNumber=14\n",
      "Getting page: 14\n",
      "100\n",
      "https://www.amazon.in/Redmi-Prime-Storage-Display-Camera/product-reviews/B086984LJ4/ref=cm_cr_arp_d_paging_btm_next_15?ie=UTF8&reviewerType=all_reviews&pageNumber=15\n",
      "Getting page: 15\n",
      "110\n",
      "https://www.amazon.in/Redmi-Prime-Storage-Display-Camera/product-reviews/B086984LJ4/ref=cm_cr_arp_d_paging_btm_next_16?ie=UTF8&reviewerType=all_reviews&pageNumber=16\n",
      "Getting page: 16\n",
      "120\n",
      "https://www.amazon.in/Redmi-Prime-Storage-Display-Camera/product-reviews/B086984LJ4/ref=cm_cr_arp_d_paging_btm_next_17?ie=UTF8&reviewerType=all_reviews&pageNumber=17\n",
      "Getting page: 17\n",
      "130\n",
      "https://www.amazon.in/Redmi-Prime-Storage-Display-Camera/product-reviews/B086984LJ4/ref=cm_cr_arp_d_paging_btm_next_18?ie=UTF8&reviewerType=all_reviews&pageNumber=18\n",
      "Getting page: 18\n",
      "140\n",
      "https://www.amazon.in/Redmi-Prime-Storage-Display-Camera/product-reviews/B086984LJ4/ref=cm_cr_arp_d_paging_btm_next_19?ie=UTF8&reviewerType=all_reviews&pageNumber=19\n",
      "Getting page: 19\n",
      "150\n",
      "https://www.amazon.in/Redmi-Prime-Storage-Display-Camera/product-reviews/B086984LJ4/ref=cm_cr_arp_d_paging_btm_next_20?ie=UTF8&reviewerType=all_reviews&pageNumber=20\n",
      "Getting page: 20\n",
      "150\n",
      "https://www.amazon.in/Redmi-Prime-Storage-Display-Camera/product-reviews/B086984LJ4/ref=cm_cr_arp_d_paging_btm_next_21?ie=UTF8&reviewerType=all_reviews&pageNumber=21\n",
      "Getting page: 21\n",
      "160\n",
      "https://www.amazon.in/Redmi-Prime-Storage-Display-Camera/product-reviews/B086984LJ4/ref=cm_cr_arp_d_paging_btm_next_22?ie=UTF8&reviewerType=all_reviews&pageNumber=22\n",
      "Getting page: 22\n",
      "170\n",
      "https://www.amazon.in/Redmi-Prime-Storage-Display-Camera/product-reviews/B086984LJ4/ref=cm_cr_arp_d_paging_btm_next_23?ie=UTF8&reviewerType=all_reviews&pageNumber=23\n",
      "Getting page: 23\n",
      "170\n",
      "https://www.amazon.in/Redmi-Prime-Storage-Display-Camera/product-reviews/B086984LJ4/ref=cm_cr_arp_d_paging_btm_next_24?ie=UTF8&reviewerType=all_reviews&pageNumber=24\n",
      "Getting page: 24\n",
      "180\n",
      "https://www.amazon.in/Redmi-Prime-Storage-Display-Camera/product-reviews/B086984LJ4/ref=cm_cr_arp_d_paging_btm_next_25?ie=UTF8&reviewerType=all_reviews&pageNumber=25\n",
      "Getting page: 25\n",
      "190\n",
      "https://www.amazon.in/Redmi-Prime-Storage-Display-Camera/product-reviews/B086984LJ4/ref=cm_cr_arp_d_paging_btm_next_26?ie=UTF8&reviewerType=all_reviews&pageNumber=26\n",
      "Getting page: 26\n",
      "200\n",
      "https://www.amazon.in/Redmi-Prime-Storage-Display-Camera/product-reviews/B086984LJ4/ref=cm_cr_arp_d_paging_btm_next_27?ie=UTF8&reviewerType=all_reviews&pageNumber=27\n",
      "Getting page: 27\n",
      "210\n",
      "https://www.amazon.in/Redmi-Prime-Storage-Display-Camera/product-reviews/B086984LJ4/ref=cm_cr_arp_d_paging_btm_next_28?ie=UTF8&reviewerType=all_reviews&pageNumber=28\n",
      "Getting page: 28\n",
      "210\n",
      "https://www.amazon.in/Redmi-Prime-Storage-Display-Camera/product-reviews/B086984LJ4/ref=cm_cr_arp_d_paging_btm_next_29?ie=UTF8&reviewerType=all_reviews&pageNumber=29\n",
      "Getting page: 29\n",
      "220\n",
      "End.\n"
     ]
    }
   ],
   "source": [
    "\n",
    "\n",
    "import requests\n",
    "from bs4 import BeautifulSoup\n",
    "import pandas as pd\n",
    "\n",
    "def append_df_to_excel(filename, df, sheet_name='Sheet1', startrow=None,\n",
    "                       truncate_sheet=False, \n",
    "                       **to_excel_kwargs):\n",
    "    from openpyxl import load_workbook\n",
    "\n",
    "    # ignore [engine] parameter if it was passed\n",
    "    if 'engine' in to_excel_kwargs:\n",
    "        to_excel_kwargs.pop('engine')\n",
    "\n",
    "    writer = pd.ExcelWriter(filename, engine='openpyxl')\n",
    "\n",
    "    try:\n",
    "        # try to open an existing workbook\n",
    "        writer.book = load_workbook(filename)\n",
    "\n",
    "        # get the last row in the existing Excel sheet\n",
    "        # if it was not specified explicitly\n",
    "        if startrow is None and sheet_name in writer.book.sheetnames:\n",
    "            startrow = writer.book[sheet_name].max_row\n",
    "\n",
    "        # truncate sheet\n",
    "        if truncate_sheet and sheet_name in writer.book.sheetnames:\n",
    "            # index of [sheet_name] sheet\n",
    "            idx = writer.book.sheetnames.index(sheet_name)\n",
    "            # remove [sheet_name]\n",
    "            writer.book.remove(writer.book.worksheets[idx])\n",
    "            # create an empty sheet [sheet_name] using old index\n",
    "            writer.book.create_sheet(sheet_name, idx)\n",
    "\n",
    "        # copy existing sheets\n",
    "        writer.sheets = {ws.title:ws for ws in writer.book.worksheets}\n",
    "    except FileNotFoundError:\n",
    "        # file does not exist yet, we will create it\n",
    "        pass\n",
    "\n",
    "    if startrow is None:\n",
    "        startrow = 0\n",
    "\n",
    "    # write out the new sheet\n",
    "    df.to_excel(writer, sheet_name, startrow=startrow, **to_excel_kwargs)\n",
    "\n",
    "    # save the workbook\n",
    "    writer.save()\n",
    "    \n",
    "reviewlist = []\n",
    "\n",
    "    \n",
    "def get_soup(url):\n",
    "    r = requests.get(url)\n",
    "    soup = BeautifulSoup(r.text, 'html.parser')\n",
    "    return soup\n",
    "\n",
    "\n",
    "def get_reviews(soup):\n",
    "    reviews = soup.find_all('div', {'data-hook': 'review'})\n",
    "    try:\n",
    "        for item in reviews:\n",
    "            review = {\n",
    "            'Product': soup.title.text.replace('Amazon.in:Customer reviews:', '').strip(),\n",
    "            'Custer Name':item.find('span',class_='a-profile-name').text.strip(),\n",
    "            'Review Title': item.find('a', {'data-hook': 'review-title'}).text.strip(),\n",
    "            'Rating':  float(item.find('i', {'data-hook': 'review-star-rating'}).text.replace('out of 5 stars', '').strip()),\n",
    "            'Reviews': item.find('span', {'data-hook': 'review-body'}).text.strip(),\n",
    "            }\n",
    "            reviewlist.append(review)\n",
    "    except:\n",
    "        pass\n",
    "\n",
    "for x in range(1,30):\n",
    "    pg=str(x)\n",
    "    url_main=\"https://www.amazon.in/Redmi-Prime-Storage-Display-Camera/product-reviews/B086984LJ4\"\n",
    "    url_split1=\"/ref=cm_cr_arp_d_paging_btm_next_\"\n",
    "    url_split2=\"?ie=UTF8&reviewerType=all_reviews&pageNumber=\"\n",
    "    \n",
    "    url_final = url_main+url_split1+pg+url_split2+pg\n",
    "    print(url_final) \n",
    "    soup = get_soup(url_final)\n",
    "    print(f'Getting page: {x}')\n",
    "    get_reviews(soup)\n",
    "    print(len(reviewlist))\n",
    "    if not soup.find('li', {'class': 'a-disabled a-last'}):\n",
    "        pass\n",
    "    else:\n",
    "        break\n",
    "\n",
    "df = pd.DataFrame(reviewlist)\n",
    "append_df_to_excel(\"final.xlsx\", df, header=True, index=False)\n",
    "print('End.')"
   ]
  },
  {
   "cell_type": "markdown",
   "metadata": {},
   "source": [
    "# Analysing"
   ]
  },
  {
   "cell_type": "code",
   "execution_count": 2,
   "metadata": {},
   "outputs": [],
   "source": [
    "import pandas as pd\n",
    "import numpy as np\n",
    "df=pd.read_excel(r'final.xlsx')"
   ]
  },
  {
   "cell_type": "code",
   "execution_count": 3,
   "metadata": {},
   "outputs": [
    {
     "data": {
      "text/html": [
       "<div>\n",
       "<style scoped>\n",
       "    .dataframe tbody tr th:only-of-type {\n",
       "        vertical-align: middle;\n",
       "    }\n",
       "\n",
       "    .dataframe tbody tr th {\n",
       "        vertical-align: top;\n",
       "    }\n",
       "\n",
       "    .dataframe thead th {\n",
       "        text-align: right;\n",
       "    }\n",
       "</style>\n",
       "<table border=\"1\" class=\"dataframe\">\n",
       "  <thead>\n",
       "    <tr style=\"text-align: right;\">\n",
       "      <th></th>\n",
       "      <th>Product</th>\n",
       "      <th>Custer Name</th>\n",
       "      <th>Review Title</th>\n",
       "      <th>Rating</th>\n",
       "      <th>Reviews</th>\n",
       "    </tr>\n",
       "  </thead>\n",
       "  <tbody>\n",
       "    <tr>\n",
       "      <th>0</th>\n",
       "      <td>Redmi 9 Prime (Mint Green, 4GB RAM, 128GB Stor...</td>\n",
       "      <td>Gopi</td>\n",
       "      <td>Oscem</td>\n",
       "      <td>5</td>\n",
       "      <td>Best mobile at this price range</td>\n",
       "    </tr>\n",
       "    <tr>\n",
       "      <th>1</th>\n",
       "      <td>Redmi 9 Prime (Mint Green, 4GB RAM, 128GB Stor...</td>\n",
       "      <td>NITISH RANJAN</td>\n",
       "      <td>redmi 9 prime</td>\n",
       "      <td>4</td>\n",
       "      <td>good phone at this budget, but camera quality ...</td>\n",
       "    </tr>\n",
       "    <tr>\n",
       "      <th>2</th>\n",
       "      <td>Redmi 9 Prime (Mint Green, 4GB RAM, 128GB Stor...</td>\n",
       "      <td>Arbaaz</td>\n",
       "      <td>Best in class @9999</td>\n",
       "      <td>5</td>\n",
       "      <td>Best budget smartphone.</td>\n",
       "    </tr>\n",
       "    <tr>\n",
       "      <th>3</th>\n",
       "      <td>Redmi 9 Prime (Mint Green, 4GB RAM, 128GB Stor...</td>\n",
       "      <td>ADIL.T.M</td>\n",
       "      <td>🤔prime.. prime🤭🤭🤭ᴄʰᵃⁿᵍᵉᵈ🙄🙄</td>\n",
       "      <td>4</td>\n",
       "      <td>We haven't seen the ‘Prime' branding on a Redm...</td>\n",
       "    </tr>\n",
       "    <tr>\n",
       "      <th>4</th>\n",
       "      <td>Redmi 9 Prime (Mint Green, 4GB RAM, 128GB Stor...</td>\n",
       "      <td>Sakib Hasan</td>\n",
       "      <td>value for money</td>\n",
       "      <td>5</td>\n",
       "      <td>nice camera</td>\n",
       "    </tr>\n",
       "  </tbody>\n",
       "</table>\n",
       "</div>"
      ],
      "text/plain": [
       "                                             Product    Custer Name  \\\n",
       "0  Redmi 9 Prime (Mint Green, 4GB RAM, 128GB Stor...           Gopi   \n",
       "1  Redmi 9 Prime (Mint Green, 4GB RAM, 128GB Stor...  NITISH RANJAN   \n",
       "2  Redmi 9 Prime (Mint Green, 4GB RAM, 128GB Stor...         Arbaaz   \n",
       "3  Redmi 9 Prime (Mint Green, 4GB RAM, 128GB Stor...       ADIL.T.M   \n",
       "4  Redmi 9 Prime (Mint Green, 4GB RAM, 128GB Stor...    Sakib Hasan   \n",
       "\n",
       "                 Review Title  Rating  \\\n",
       "0                       Oscem       5   \n",
       "1               redmi 9 prime       4   \n",
       "2         Best in class @9999       5   \n",
       "3  🤔prime.. prime🤭🤭🤭ᴄʰᵃⁿᵍᵉᵈ🙄🙄       4   \n",
       "4             value for money       5   \n",
       "\n",
       "                                             Reviews  \n",
       "0                    Best mobile at this price range  \n",
       "1  good phone at this budget, but camera quality ...  \n",
       "2                            Best budget smartphone.  \n",
       "3  We haven't seen the ‘Prime' branding on a Redm...  \n",
       "4                                        nice camera  "
      ]
     },
     "execution_count": 3,
     "metadata": {},
     "output_type": "execute_result"
    }
   ],
   "source": [
    "df.head()"
   ]
  },
  {
   "cell_type": "code",
   "execution_count": 4,
   "metadata": {},
   "outputs": [],
   "source": [
    "x=[]\n",
    "x=df.Reviews"
   ]
  },
  {
   "cell_type": "code",
   "execution_count": 5,
   "metadata": {},
   "outputs": [
    {
     "data": {
      "text/plain": [
       "0                        Best mobile at this price range\n",
       "1      good phone at this budget, but camera quality ...\n",
       "2                                Best budget smartphone.\n",
       "3      We haven't seen the ‘Prime' branding on a Redm...\n",
       "4                                            nice camera\n",
       "                             ...                        \n",
       "215    Fingerprint reader is quick.Execellent battery...\n",
       "216    I am one of old customer of Redmi.. i think it...\n",
       "217    Best mobile at this price rangeGood looks hmmG...\n",
       "218    Every thing is awesome in this price range exc...\n",
       "219    Please don't buy this phone I have bought for ...\n",
       "Name: Reviews, Length: 220, dtype: object"
      ]
     },
     "execution_count": 5,
     "metadata": {},
     "output_type": "execute_result"
    }
   ],
   "source": [
    "x"
   ]
  },
  {
   "cell_type": "code",
   "execution_count": 6,
   "metadata": {},
   "outputs": [],
   "source": [
    "import re\n",
    "\n",
    "REPLACE_NO_SPACE = re.compile(\"[.;:!\\'?,\\\"()\\[\\]]\")\n",
    "REPLACE_WITH_SPACE = re.compile(\"(<br\\s*/><br\\s*/>)|(\\-)|(\\/)\")\n",
    "\n",
    "def preprocess_reviews(reviews):\n",
    "    reviews = [REPLACE_NO_SPACE.sub(\"\", line.lower()) for line in reviews]\n",
    "    reviews = [REPLACE_WITH_SPACE.sub(\" \", line) for line in reviews]\n",
    "    \n",
    "    return reviews\n",
    "\n",
    "reviews_train_clean = preprocess_reviews(x)"
   ]
  },
  {
   "cell_type": "code",
   "execution_count": 7,
   "metadata": {},
   "outputs": [],
   "source": [
    "df['Cleaned Reviews']=reviews_train_clean"
   ]
  },
  {
   "cell_type": "code",
   "execution_count": 8,
   "metadata": {},
   "outputs": [
    {
     "data": {
      "text/plain": [
       "0                        best mobile at this price range\n",
       "1      good phone at this budget but camera quality i...\n",
       "2                                 best budget smartphone\n",
       "3      we havent seen the ‘prime branding on a redmi ...\n",
       "4                                            nice camera\n",
       "                             ...                        \n",
       "215    fingerprint reader is quickexecellent battery ...\n",
       "216    i am one of old customer of redmi i think its ...\n",
       "217    best mobile at this price rangegood looks hmmg...\n",
       "218    every thing is awesome in this price range exc...\n",
       "219    please dont buy this phone i have bought for m...\n",
       "Name: Cleaned Reviews, Length: 220, dtype: object"
      ]
     },
     "execution_count": 8,
     "metadata": {},
     "output_type": "execute_result"
    }
   ],
   "source": [
    "df['Cleaned Reviews']"
   ]
  },
  {
   "cell_type": "code",
   "execution_count": 9,
   "metadata": {},
   "outputs": [],
   "source": [
    "import string\n",
    "import nltk\n",
    "from nltk.corpus import stopwords\n",
    "from nltk import PorterStemmer"
   ]
  },
  {
   "cell_type": "code",
   "execution_count": 10,
   "metadata": {},
   "outputs": [],
   "source": [
    "STOPWORDS=stopwords.words(\"english\")"
   ]
  },
  {
   "cell_type": "code",
   "execution_count": 11,
   "metadata": {},
   "outputs": [],
   "source": [
    "def deEmojify(inputString):\n",
    "    return inputString.encode('ascii', 'ignore').decode('ascii')"
   ]
  },
  {
   "cell_type": "code",
   "execution_count": 12,
   "metadata": {},
   "outputs": [
    {
     "data": {
      "text/html": [
       "<div>\n",
       "<style scoped>\n",
       "    .dataframe tbody tr th:only-of-type {\n",
       "        vertical-align: middle;\n",
       "    }\n",
       "\n",
       "    .dataframe tbody tr th {\n",
       "        vertical-align: top;\n",
       "    }\n",
       "\n",
       "    .dataframe thead th {\n",
       "        text-align: right;\n",
       "    }\n",
       "</style>\n",
       "<table border=\"1\" class=\"dataframe\">\n",
       "  <thead>\n",
       "    <tr style=\"text-align: right;\">\n",
       "      <th></th>\n",
       "      <th>Product</th>\n",
       "      <th>Custer Name</th>\n",
       "      <th>Review Title</th>\n",
       "      <th>Rating</th>\n",
       "      <th>Reviews</th>\n",
       "      <th>Cleaned Reviews</th>\n",
       "    </tr>\n",
       "  </thead>\n",
       "  <tbody>\n",
       "    <tr>\n",
       "      <th>121</th>\n",
       "      <td>Redmi 9 Prime (Mint Green, 4GB RAM, 128GB Stor...</td>\n",
       "      <td>bookreader</td>\n",
       "      <td>Wifi Problem is the worst.</td>\n",
       "      <td>1</td>\n",
       "      <td>After 2 days of experience. I can sayThe wifi ...</td>\n",
       "      <td>after 2 days of experience i can saythe wifi c...</td>\n",
       "    </tr>\n",
       "    <tr>\n",
       "      <th>124</th>\n",
       "      <td>Redmi 9 Prime (Mint Green, 4GB RAM, 128GB Stor...</td>\n",
       "      <td>Krishna</td>\n",
       "      <td>Smply Awesome</td>\n",
       "      <td>5</td>\n",
       "      <td>Just Go ahead and PurchaseOver all its Good in...</td>\n",
       "      <td>just go ahead and purchaseover all its good in...</td>\n",
       "    </tr>\n",
       "    <tr>\n",
       "      <th>97</th>\n",
       "      <td>Redmi 9 Prime (Mint Green, 4GB RAM, 128GB Stor...</td>\n",
       "      <td>Tushar Patel</td>\n",
       "      <td>Worth to buy</td>\n",
       "      <td>5</td>\n",
       "      <td>I had purchase this phone for my mother, she i...</td>\n",
       "      <td>i had purchase this phone for my mother she is...</td>\n",
       "    </tr>\n",
       "    <tr>\n",
       "      <th>33</th>\n",
       "      <td>Redmi 9 Prime (Mint Green, 4GB RAM, 128GB Stor...</td>\n",
       "      <td>RAVIKISHAN KUMAR</td>\n",
       "      <td>Pretty Compatible and Affordable</td>\n",
       "      <td>5</td>\n",
       "      <td>Redmi 9 Prime is a pretty compatible and good ...</td>\n",
       "      <td>redmi 9 prime is a pretty compatible and good ...</td>\n",
       "    </tr>\n",
       "    <tr>\n",
       "      <th>42</th>\n",
       "      <td>Redmi 9 Prime (Mint Green, 4GB RAM, 128GB Stor...</td>\n",
       "      <td>Aditya dhanraj</td>\n",
       "      <td>Best phone in budget</td>\n",
       "      <td>3</td>\n",
       "      <td>Phone is osm but its camera quality is not goo...</td>\n",
       "      <td>phone is osm but its camera quality is not goo...</td>\n",
       "    </tr>\n",
       "  </tbody>\n",
       "</table>\n",
       "</div>"
      ],
      "text/plain": [
       "                                               Product       Custer Name  \\\n",
       "121  Redmi 9 Prime (Mint Green, 4GB RAM, 128GB Stor...        bookreader   \n",
       "124  Redmi 9 Prime (Mint Green, 4GB RAM, 128GB Stor...           Krishna   \n",
       "97   Redmi 9 Prime (Mint Green, 4GB RAM, 128GB Stor...      Tushar Patel   \n",
       "33   Redmi 9 Prime (Mint Green, 4GB RAM, 128GB Stor...  RAVIKISHAN KUMAR   \n",
       "42   Redmi 9 Prime (Mint Green, 4GB RAM, 128GB Stor...    Aditya dhanraj   \n",
       "\n",
       "                         Review Title  Rating  \\\n",
       "121        Wifi Problem is the worst.       1   \n",
       "124                     Smply Awesome       5   \n",
       "97                       Worth to buy       5   \n",
       "33   Pretty Compatible and Affordable       5   \n",
       "42               Best phone in budget       3   \n",
       "\n",
       "                                               Reviews  \\\n",
       "121  After 2 days of experience. I can sayThe wifi ...   \n",
       "124  Just Go ahead and PurchaseOver all its Good in...   \n",
       "97   I had purchase this phone for my mother, she i...   \n",
       "33   Redmi 9 Prime is a pretty compatible and good ...   \n",
       "42   Phone is osm but its camera quality is not goo...   \n",
       "\n",
       "                                       Cleaned Reviews  \n",
       "121  after 2 days of experience i can saythe wifi c...  \n",
       "124  just go ahead and purchaseover all its good in...  \n",
       "97   i had purchase this phone for my mother she is...  \n",
       "33   redmi 9 prime is a pretty compatible and good ...  \n",
       "42   phone is osm but its camera quality is not goo...  "
      ]
     },
     "execution_count": 12,
     "metadata": {},
     "output_type": "execute_result"
    }
   ],
   "source": [
    "df.sample(5)"
   ]
  },
  {
   "cell_type": "code",
   "execution_count": 13,
   "metadata": {},
   "outputs": [],
   "source": [
    "import matplotlib.pyplot as plt\n",
    "import seaborn as sns"
   ]
  },
  {
   "cell_type": "code",
   "execution_count": 14,
   "metadata": {},
   "outputs": [
    {
     "data": {
      "image/png": "[encoded data removed]",
      "text/plain": [
       "<Figure size 432x288 with 1 Axes>"
      ]
     },
     "metadata": {
      "needs_background": "light"
     },
     "output_type": "display_data"
    }
   ],
   "source": [
    "from wordcloud import WordCloud\n",
    "wordcloud = WordCloud(height=1000, width=1000)\n",
    "wordcloud = wordcloud.generate(' '.join(df['Cleaned Reviews'].tolist()))\n",
    "plt.imshow(wordcloud)\n",
    "plt.title(\"Most common words in the reviews\")\n",
    "plt.axis('off')\n",
    "plt.show()\n",
    "wordcloud =  wordcloud.to_file('static/wordcloud.png')"
   ]
  },
  {
   "cell_type": "code",
   "execution_count": 15,
   "metadata": {},
   "outputs": [],
   "source": [
    "from vaderSentiment.vaderSentiment import SentimentIntensityAnalyzer\n",
    "analyser = SentimentIntensityAnalyzer()"
   ]
  },
  {
   "cell_type": "code",
   "execution_count": 16,
   "metadata": {},
   "outputs": [],
   "source": [
    "def sentiment_analyzer_scores(sentence):\n",
    "    score = analyser.polarity_scores(sentence)\n",
    "    return score"
   ]
  },
  {
   "cell_type": "code",
   "execution_count": 17,
   "metadata": {},
   "outputs": [],
   "source": [
    "def compound_score(text):\n",
    "    comp=sentiment_analyzer_scores(text)\n",
    "    return comp['compound']"
   ]
  },
  {
   "cell_type": "code",
   "execution_count": 18,
   "metadata": {},
   "outputs": [],
   "source": [
    "df['sentiment_score']=df['Cleaned Reviews'].apply(lambda x:compound_score(x))"
   ]
  },
  {
   "cell_type": "code",
   "execution_count": 19,
   "metadata": {},
   "outputs": [
    {
     "data": {
      "text/html": [
       "<div>\n",
       "<style scoped>\n",
       "    .dataframe tbody tr th:only-of-type {\n",
       "        vertical-align: middle;\n",
       "    }\n",
       "\n",
       "    .dataframe tbody tr th {\n",
       "        vertical-align: top;\n",
       "    }\n",
       "\n",
       "    .dataframe thead th {\n",
       "        text-align: right;\n",
       "    }\n",
       "</style>\n",
       "<table border=\"1\" class=\"dataframe\">\n",
       "  <thead>\n",
       "    <tr style=\"text-align: right;\">\n",
       "      <th></th>\n",
       "      <th>Product</th>\n",
       "      <th>Custer Name</th>\n",
       "      <th>Review Title</th>\n",
       "      <th>Rating</th>\n",
       "      <th>Reviews</th>\n",
       "      <th>Cleaned Reviews</th>\n",
       "      <th>sentiment_score</th>\n",
       "    </tr>\n",
       "  </thead>\n",
       "  <tbody>\n",
       "    <tr>\n",
       "      <th>42</th>\n",
       "      <td>Redmi 9 Prime (Mint Green, 4GB RAM, 128GB Stor...</td>\n",
       "      <td>Aditya dhanraj</td>\n",
       "      <td>Best phone in budget</td>\n",
       "      <td>3</td>\n",
       "      <td>Phone is osm but its camera quality is not goo...</td>\n",
       "      <td>phone is osm but its camera quality is not goo...</td>\n",
       "      <td>0.8512</td>\n",
       "    </tr>\n",
       "    <tr>\n",
       "      <th>185</th>\n",
       "      <td>Redmi 9 Prime (Mint Green, 4GB RAM, 128GB Stor...</td>\n",
       "      <td>Kishan gupta</td>\n",
       "      <td>Software issue</td>\n",
       "      <td>4</td>\n",
       "      <td>Gyro delay in pubg mobile... Can't play withou...</td>\n",
       "      <td>gyro delay in pubg mobile cant play without gy...</td>\n",
       "      <td>-0.4653</td>\n",
       "    </tr>\n",
       "    <tr>\n",
       "      <th>218</th>\n",
       "      <td>Redmi 9 Prime (Mint Green, 4GB RAM, 128GB Stor...</td>\n",
       "      <td>Ajay Verma</td>\n",
       "      <td>Every thing is awesome in this price range exc...</td>\n",
       "      <td>5</td>\n",
       "      <td>Every thing is awesome in this price range exc...</td>\n",
       "      <td>every thing is awesome in this price range exc...</td>\n",
       "      <td>0.3176</td>\n",
       "    </tr>\n",
       "    <tr>\n",
       "      <th>22</th>\n",
       "      <td>Redmi 9 Prime (Mint Green, 4GB RAM, 128GB Stor...</td>\n",
       "      <td>ABHISEK BHATTA</td>\n",
       "      <td>This product is very very very bad quality. Ma...</td>\n",
       "      <td>1</td>\n",
       "      <td>This product is very very very bad quality.Mad...</td>\n",
       "      <td>this product is very very very bad qualitymade...</td>\n",
       "      <td>-0.3955</td>\n",
       "    </tr>\n",
       "  </tbody>\n",
       "</table>\n",
       "</div>"
      ],
      "text/plain": [
       "                                               Product     Custer Name  \\\n",
       "42   Redmi 9 Prime (Mint Green, 4GB RAM, 128GB Stor...  Aditya dhanraj   \n",
       "185  Redmi 9 Prime (Mint Green, 4GB RAM, 128GB Stor...    Kishan gupta   \n",
       "218  Redmi 9 Prime (Mint Green, 4GB RAM, 128GB Stor...      Ajay Verma   \n",
       "22   Redmi 9 Prime (Mint Green, 4GB RAM, 128GB Stor...  ABHISEK BHATTA   \n",
       "\n",
       "                                          Review Title  Rating  \\\n",
       "42                                Best phone in budget       3   \n",
       "185                                     Software issue       4   \n",
       "218  Every thing is awesome in this price range exc...       5   \n",
       "22   This product is very very very bad quality. Ma...       1   \n",
       "\n",
       "                                               Reviews  \\\n",
       "42   Phone is osm but its camera quality is not goo...   \n",
       "185  Gyro delay in pubg mobile... Can't play withou...   \n",
       "218  Every thing is awesome in this price range exc...   \n",
       "22   This product is very very very bad quality.Mad...   \n",
       "\n",
       "                                       Cleaned Reviews  sentiment_score  \n",
       "42   phone is osm but its camera quality is not goo...           0.8512  \n",
       "185  gyro delay in pubg mobile cant play without gy...          -0.4653  \n",
       "218  every thing is awesome in this price range exc...           0.3176  \n",
       "22   this product is very very very bad qualitymade...          -0.3955  "
      ]
     },
     "execution_count": 19,
     "metadata": {},
     "output_type": "execute_result"
    }
   ],
   "source": [
    "df.sample(4)"
   ]
  },
  {
   "cell_type": "code",
   "execution_count": 20,
   "metadata": {},
   "outputs": [],
   "source": [
    "def sentiment_category(score):\n",
    "    if score >= 0.05:\n",
    "        return \"positive\"\n",
    "    elif score <= -0.05:\n",
    "        return \"negative\"\n",
    "    else:\n",
    "        return \"neutral\""
   ]
  },
  {
   "cell_type": "code",
   "execution_count": 21,
   "metadata": {},
   "outputs": [],
   "source": [
    "df['review_category']=df['sentiment_score'].apply(lambda x:sentiment_category(x))"
   ]
  },
  {
   "cell_type": "code",
   "execution_count": 22,
   "metadata": {},
   "outputs": [
    {
     "data": {
      "text/html": [
       "<div>\n",
       "<style scoped>\n",
       "    .dataframe tbody tr th:only-of-type {\n",
       "        vertical-align: middle;\n",
       "    }\n",
       "\n",
       "    .dataframe tbody tr th {\n",
       "        vertical-align: top;\n",
       "    }\n",
       "\n",
       "    .dataframe thead th {\n",
       "        text-align: right;\n",
       "    }\n",
       "</style>\n",
       "<table border=\"1\" class=\"dataframe\">\n",
       "  <thead>\n",
       "    <tr style=\"text-align: right;\">\n",
       "      <th></th>\n",
       "      <th>Product</th>\n",
       "      <th>Custer Name</th>\n",
       "      <th>Review Title</th>\n",
       "      <th>Rating</th>\n",
       "      <th>Reviews</th>\n",
       "      <th>Cleaned Reviews</th>\n",
       "      <th>sentiment_score</th>\n",
       "      <th>review_category</th>\n",
       "    </tr>\n",
       "  </thead>\n",
       "  <tbody>\n",
       "    <tr>\n",
       "      <th>55</th>\n",
       "      <td>Redmi 9 Prime (Mint Green, 4GB RAM, 128GB Stor...</td>\n",
       "      <td>Amazon Customer</td>\n",
       "      <td>Redmi 9 Prime is the best, nailing essentials,...</td>\n",
       "      <td>4</td>\n",
       "      <td>The best part of this phone is1. The colour \"M...</td>\n",
       "      <td>the best part of this phone is1 the colour min...</td>\n",
       "      <td>0.9782</td>\n",
       "      <td>positive</td>\n",
       "    </tr>\n",
       "    <tr>\n",
       "      <th>192</th>\n",
       "      <td>Redmi 9 Prime (Mint Green, 4GB RAM, 128GB Stor...</td>\n",
       "      <td>Tejas R</td>\n",
       "      <td>good,decent phone but not excellent</td>\n",
       "      <td>4</td>\n",
       "      <td>In this price range, Full HD+ display is excel...</td>\n",
       "      <td>in this price range full hd+ display is excell...</td>\n",
       "      <td>-0.6723</td>\n",
       "      <td>negative</td>\n",
       "    </tr>\n",
       "    <tr>\n",
       "      <th>128</th>\n",
       "      <td>Redmi 9 Prime (Mint Green, 4GB RAM, 128GB Stor...</td>\n",
       "      <td>Narendra</td>\n",
       "      <td>Buy 18w charger again 🧐</td>\n",
       "      <td>3</td>\n",
       "      <td>Need to purchase 18W charger with this mobile,...</td>\n",
       "      <td>need to purchase 18w charger with this mobile ...</td>\n",
       "      <td>-0.5423</td>\n",
       "      <td>negative</td>\n",
       "    </tr>\n",
       "    <tr>\n",
       "      <th>37</th>\n",
       "      <td>Redmi 9 Prime (Mint Green, 4GB RAM, 128GB Stor...</td>\n",
       "      <td>RAVIKISHAN KUMAR</td>\n",
       "      <td>Gaming and Multitasking Device</td>\n",
       "      <td>5</td>\n",
       "      <td>Redmi has come up with a great phone in the be...</td>\n",
       "      <td>redmi has come up with a great phone in the be...</td>\n",
       "      <td>0.7964</td>\n",
       "      <td>positive</td>\n",
       "    </tr>\n",
       "    <tr>\n",
       "      <th>105</th>\n",
       "      <td>Redmi 9 Prime (Mint Green, 4GB RAM, 128GB Stor...</td>\n",
       "      <td>Amisha</td>\n",
       "      <td>Best phone</td>\n",
       "      <td>5</td>\n",
       "      <td>Design is good , handy phone , battery backup ...</td>\n",
       "      <td>design is good  handy phone  battery backup is...</td>\n",
       "      <td>0.8176</td>\n",
       "      <td>positive</td>\n",
       "    </tr>\n",
       "    <tr>\n",
       "      <th>16</th>\n",
       "      <td>Redmi 9 Prime (Mint Green, 4GB RAM, 128GB Stor...</td>\n",
       "      <td>ankit kumar</td>\n",
       "      <td>it is in the first place under 10000 price range.</td>\n",
       "      <td>5</td>\n",
       "      <td>By good luck, I was able to get this phone in ...</td>\n",
       "      <td>by good luck i was able to get this phone in t...</td>\n",
       "      <td>0.9695</td>\n",
       "      <td>positive</td>\n",
       "    </tr>\n",
       "    <tr>\n",
       "      <th>56</th>\n",
       "      <td>Redmi 9 Prime (Mint Green, 4GB RAM, 128GB Stor...</td>\n",
       "      <td>Anand</td>\n",
       "      <td>Superb phone at</td>\n",
       "      <td>5</td>\n",
       "      <td>Superb phone at this budget and excellent valu...</td>\n",
       "      <td>superb phone at this budget and excellent valu...</td>\n",
       "      <td>0.8807</td>\n",
       "      <td>positive</td>\n",
       "    </tr>\n",
       "    <tr>\n",
       "      <th>135</th>\n",
       "      <td>Redmi 9 Prime (Mint Green, 4GB RAM, 128GB Stor...</td>\n",
       "      <td>RAVIKISHAN KUMAR</td>\n",
       "      <td>Compatible for everything</td>\n",
       "      <td>5</td>\n",
       "      <td>This is the best phone you can get for multita...</td>\n",
       "      <td>this is the best phone you can get for multita...</td>\n",
       "      <td>0.9456</td>\n",
       "      <td>positive</td>\n",
       "    </tr>\n",
       "    <tr>\n",
       "      <th>20</th>\n",
       "      <td>Redmi 9 Prime (Mint Green, 4GB RAM, 128GB Stor...</td>\n",
       "      <td>Divyankit</td>\n",
       "      <td>Only 13 MP CAMERA AT 12000 not a good deal</td>\n",
       "      <td>1</td>\n",
       "      <td>I Quite Disappointed with it because1- In Box ...</td>\n",
       "      <td>i quite disappointed with it because1  in box ...</td>\n",
       "      <td>-0.5256</td>\n",
       "      <td>negative</td>\n",
       "    </tr>\n",
       "    <tr>\n",
       "      <th>70</th>\n",
       "      <td>Redmi 9 Prime (Mint Green, 4GB RAM, 128GB Stor...</td>\n",
       "      <td>Nikhil Kulkarni</td>\n",
       "      <td>Scores over other mobiles in the sub-10k price...</td>\n",
       "      <td>4</td>\n",
       "      <td>Can say without a doubt that performance and f...</td>\n",
       "      <td>can say without a doubt that performance and f...</td>\n",
       "      <td>0.9904</td>\n",
       "      <td>positive</td>\n",
       "    </tr>\n",
       "  </tbody>\n",
       "</table>\n",
       "</div>"
      ],
      "text/plain": [
       "                                               Product       Custer Name  \\\n",
       "55   Redmi 9 Prime (Mint Green, 4GB RAM, 128GB Stor...   Amazon Customer   \n",
       "192  Redmi 9 Prime (Mint Green, 4GB RAM, 128GB Stor...           Tejas R   \n",
       "128  Redmi 9 Prime (Mint Green, 4GB RAM, 128GB Stor...          Narendra   \n",
       "37   Redmi 9 Prime (Mint Green, 4GB RAM, 128GB Stor...  RAVIKISHAN KUMAR   \n",
       "105  Redmi 9 Prime (Mint Green, 4GB RAM, 128GB Stor...            Amisha   \n",
       "16   Redmi 9 Prime (Mint Green, 4GB RAM, 128GB Stor...       ankit kumar   \n",
       "56   Redmi 9 Prime (Mint Green, 4GB RAM, 128GB Stor...             Anand   \n",
       "135  Redmi 9 Prime (Mint Green, 4GB RAM, 128GB Stor...  RAVIKISHAN KUMAR   \n",
       "20   Redmi 9 Prime (Mint Green, 4GB RAM, 128GB Stor...         Divyankit   \n",
       "70   Redmi 9 Prime (Mint Green, 4GB RAM, 128GB Stor...   Nikhil Kulkarni   \n",
       "\n",
       "                                          Review Title  Rating  \\\n",
       "55   Redmi 9 Prime is the best, nailing essentials,...       4   \n",
       "192                good,decent phone but not excellent       4   \n",
       "128                            Buy 18w charger again 🧐       3   \n",
       "37                      Gaming and Multitasking Device       5   \n",
       "105                                         Best phone       5   \n",
       "16   it is in the first place under 10000 price range.       5   \n",
       "56                                     Superb phone at       5   \n",
       "135                          Compatible for everything       5   \n",
       "20          Only 13 MP CAMERA AT 12000 not a good deal       1   \n",
       "70   Scores over other mobiles in the sub-10k price...       4   \n",
       "\n",
       "                                               Reviews  \\\n",
       "55   The best part of this phone is1. The colour \"M...   \n",
       "192  In this price range, Full HD+ display is excel...   \n",
       "128  Need to purchase 18W charger with this mobile,...   \n",
       "37   Redmi has come up with a great phone in the be...   \n",
       "105  Design is good , handy phone , battery backup ...   \n",
       "16   By good luck, I was able to get this phone in ...   \n",
       "56   Superb phone at this budget and excellent valu...   \n",
       "135  This is the best phone you can get for multita...   \n",
       "20   I Quite Disappointed with it because1- In Box ...   \n",
       "70   Can say without a doubt that performance and f...   \n",
       "\n",
       "                                       Cleaned Reviews  sentiment_score  \\\n",
       "55   the best part of this phone is1 the colour min...           0.9782   \n",
       "192  in this price range full hd+ display is excell...          -0.6723   \n",
       "128  need to purchase 18w charger with this mobile ...          -0.5423   \n",
       "37   redmi has come up with a great phone in the be...           0.7964   \n",
       "105  design is good  handy phone  battery backup is...           0.8176   \n",
       "16   by good luck i was able to get this phone in t...           0.9695   \n",
       "56   superb phone at this budget and excellent valu...           0.8807   \n",
       "135  this is the best phone you can get for multita...           0.9456   \n",
       "20   i quite disappointed with it because1  in box ...          -0.5256   \n",
       "70   can say without a doubt that performance and f...           0.9904   \n",
       "\n",
       "    review_category  \n",
       "55         positive  \n",
       "192        negative  \n",
       "128        negative  \n",
       "37         positive  \n",
       "105        positive  \n",
       "16         positive  \n",
       "56         positive  \n",
       "135        positive  \n",
       "20         negative  \n",
       "70         positive  "
      ]
     },
     "execution_count": 22,
     "metadata": {},
     "output_type": "execute_result"
    }
   ],
   "source": [
    "df.sample(10)"
   ]
  },
  {
   "cell_type": "code",
   "execution_count": 23,
   "metadata": {},
   "outputs": [
    {
     "data": {
      "image/png": "[encoded data removed]",
      "text/plain": [
       "<Figure size 432x288 with 1 Axes>"
      ]
     },
     "metadata": {
      "needs_background": "light"
     },
     "output_type": "display_data"
    }
   ],
   "source": [
    "sns.countplot(df['review_category']).set_title(\"Distribution of Reviews Category\")\n",
    "plt.savefig('static/count_plot.png')"
   ]
  },
  {
   "cell_type": "code",
   "execution_count": 24,
   "metadata": {},
   "outputs": [
    {
     "data": {
      "text/plain": [
       "['best mobile at this price range',\n",
       " 'best budget smartphone',\n",
       " 'we havent seen the ‘prime branding on a redmi smartphone in a really long time but now xiaomi has brought it back with the redmi 9 prime xiaomi explains that this model has been launched because its redmi note 9 series has become more expensive due to the gst hike and rupee dollar fluctuations the redmi 9 prime is priced below the redmi note 9 series and starts just below the rs 10000 price point has xiaomi gone overboard with cost cutting or does the redmi 9 prime offer you good value for money i review the new redmi 9 prime to find outat the beginning of our redmi 9 prime review we stated that the smartphone is a prime contender for the best smartphone under rs 10000 currently in india redmi 9 prime is a budget all rounder that ticks most boxes right with its value for money performance packagethe camera unit may not be the best but it gets the job done the lack of night mode is a bummer though you can pick xiaomi’s own redmi note 9 review that gets points for its big battery decent display and an above average performance uniti bought it for youtube review but it changed me',\n",
       " 'nice camera']"
      ]
     },
     "execution_count": 24,
     "metadata": {},
     "output_type": "execute_result"
    }
   ],
   "source": [
    "positive_reviews=df.loc[df['review_category']=='positive','Cleaned Reviews'].tolist() # extracting all positive reviews and converting to a list\n",
    "positive_reviews[0:4]"
   ]
  },
  {
   "cell_type": "code",
   "execution_count": 25,
   "metadata": {},
   "outputs": [
    {
     "data": {
      "text/plain": [
       "['good phone at this budget but camera quality is not good',\n",
       " 'good but camera quality not good',\n",
       " 'only camera quality is poor  other all are good',\n",
       " 'pros* perfect p2i protection*  low rate* good build quality for this price* android 10* miui 11 { waiting for miui 12 }cons* camera is below average* average display quality* no earphones in the box* over heating* takes very long time to charge battery* poor audio qualityif your are planning to buy for students { online class } its worthless',\n",
       " 'i quite disappointed with it because1  in box only 10w charger is provided2  only 13 mp camera is available at 12000where as in narzo10 48mp main camera is available at 12000i suggest to only 10000rs vaireny']"
      ]
     },
     "execution_count": 25,
     "metadata": {},
     "output_type": "execute_result"
    }
   ],
   "source": [
    "negative_reviews=df.loc[df['review_category']=='negative','Cleaned Reviews'].tolist() # extracting all negative reviews and converting to a list\n",
    "negative_reviews[0:5]"
   ]
  },
  {
   "cell_type": "markdown",
   "metadata": {},
   "source": [
    "# Positive Words in Positive Reviews"
   ]
  },
  {
   "cell_type": "code",
   "execution_count": 26,
   "metadata": {},
   "outputs": [
    {
     "data": {
      "image/png": "[encoded data removed]",
      "text/plain": [
       "<Figure size 432x288 with 1 Axes>"
      ]
     },
     "metadata": {
      "needs_background": "light"
     },
     "output_type": "display_data"
    }
   ],
   "source": [
    "from wordcloud import WordCloud\n",
    "wordcloud = WordCloud(height=2000, width=2000, background_color='black')\n",
    "wordcloud = wordcloud.generate(' '.join(df.loc[df['review_category']=='positive','Cleaned Reviews'].tolist()))\n",
    "plt.imshow(wordcloud)\n",
    "plt.title(\"Most common words in positive customer comments\")\n",
    "plt.axis('off')\n",
    "plt.show()\n"
   ]
  },
  {
   "cell_type": "markdown",
   "metadata": {},
   "source": [
    "# Negative Words in Negative Reviews"
   ]
  },
  {
   "cell_type": "code",
   "execution_count": 27,
   "metadata": {},
   "outputs": [
    {
     "data": {
      "image/png": "[encoded data removed]",
      "text/plain": [
       "<Figure size 432x288 with 1 Axes>"
      ]
     },
     "metadata": {
      "needs_background": "light"
     },
     "output_type": "display_data"
    }
   ],
   "source": [
    "from wordcloud import WordCloud\n",
    "wordcloud = WordCloud(height=2000, width=2000, background_color='black')\n",
    "wordcloud = wordcloud.generate(' '.join(df.loc[df['review_category']=='negative','Cleaned Reviews'].tolist()))\n",
    "plt.imshow(wordcloud)\n",
    "plt.title(\"Most common words in negative customer comments\")\n",
    "plt.axis('off')\n",
    "plt.show()"
   ]
  },
  {
   "cell_type": "code",
   "execution_count": null,
   "metadata": {},
   "outputs": [],
   "source": []
  },
  {
   "cell_type": "code",
   "execution_count": 28,
   "metadata": {},
   "outputs": [],
   "source": [
    "from collections import Counter\n",
    "def getMostCommon(reviews_list,topn=20):\n",
    "    reviews=\" \".join(reviews_list)\n",
    "    tokenised_reviews=reviews.split(\" \")\n",
    "    \n",
    "    \n",
    "    freq_counter=Counter(tokenised_reviews)\n",
    "    return freq_counter.most_common(topn)"
   ]
  },
  {
   "cell_type": "code",
   "execution_count": 29,
   "metadata": {},
   "outputs": [],
   "source": [
    "def plotMostCommonWords(reviews_list,topn=20,title=\"Common Review Words\",color=\"blue\",axis=None): #default number of words is given as 20\n",
    "    top_words=getMostCommon(reviews_list,topn=topn)\n",
    "    data=pd.DataFrame()\n",
    "    data['words']=[val[0] for val in top_words]\n",
    "    data['freq']=[val[1] for val in top_words]\n",
    "    if axis!=None:\n",
    "        sns.barplot(y='words',x='freq',data=data,color=color,ax=axis).set_title(title+\" top \"+str(topn))\n",
    "    else:\n",
    "        sns.barplot(y='words',x='freq',data=data,color=color).set_title(title+\" top \"+str(topn))"
   ]
  },
  {
   "cell_type": "code",
   "execution_count": 30,
   "metadata": {},
   "outputs": [],
   "source": [
    "def generateNGram(text,n):\n",
    "    tokens=text.split(\" \")\n",
    "    ngrams = zip(*[tokens[i:] for i in range(n)])\n",
    "    return [\"_\".join(ngram) for ngram in ngrams]"
   ]
  },
  {
   "cell_type": "code",
   "execution_count": 31,
   "metadata": {},
   "outputs": [
    {
     "data": {
      "image/png": "[encoded data removed]",
      "text/plain": [
       "<Figure size 1008x720 with 2 Axes>"
      ]
     },
     "metadata": {
      "needs_background": "light"
     },
     "output_type": "display_data"
    }
   ],
   "source": [
    "from matplotlib import rcParams\n",
    "\n",
    "rcParams['figure.figsize'] = 14,10 ## Sets the heigth and width of image\n",
    "\n",
    "\n",
    "fig,ax=plt.subplots(1,2)\n",
    "fig.subplots_adjust(wspace=1.0) #Adjusts the space between the two plots\n",
    "plotMostCommonWords(positive_reviews,60,\"Positive Review Unigrams\",axis=ax[0])\n",
    "plotMostCommonWords(negative_reviews,60,\"Negative Review Unigrams\",color=\"red\",axis=ax[1])\n",
    "plt.savefig('static/unigram.png')"
   ]
  },
  {
   "cell_type": "code",
   "execution_count": null,
   "metadata": {},
   "outputs": [],
   "source": []
  },
  {
   "cell_type": "code",
   "execution_count": null,
   "metadata": {},
   "outputs": [],
   "source": []
  },
  {
   "cell_type": "code",
   "execution_count": null,
   "metadata": {},
   "outputs": [],
   "source": []
  },
  {
   "cell_type": "code",
   "execution_count": null,
   "metadata": {},
   "outputs": [],
   "source": []
  }
 ],
 "metadata": {
  "kernelspec": {
   "display_name": "Python 3",
   "language": "python",
   "name": "python3"
  },
  "language_info": {
   "codemirror_mode": {
    "name": "ipython",
    "version": 3
   },
   "file_extension": ".py",
   "mimetype": "text/x-python",
   "name": "python",
   "nbconvert_exporter": "python",
   "pygments_lexer": "ipython3",
   "version": "3.7.6"
  }
 },
 "nbformat": 4,
 "nbformat_minor": 4
}
